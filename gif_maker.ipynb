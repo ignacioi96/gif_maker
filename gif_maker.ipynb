{
 "cells": [
  {
   "cell_type": "code",
   "execution_count": 8,
   "metadata": {},
   "outputs": [],
   "source": [
    "from cv2 import VideoCapture, waitKey, imshow\n",
    "import numpy as np\n",
    "from imageio import mimsave\n",
    "from datetime import datetime, date"
   ]
  },
  {
   "cell_type": "code",
   "execution_count": 2,
   "metadata": {},
   "outputs": [
    {
     "name": "stdout",
     "output_type": "stream",
     "text": [
      "File: slime_mold.mp4\n"
     ]
    }
   ],
   "source": [
    "ans = input(\"File: \")"
   ]
  },
  {
   "cell_type": "code",
   "execution_count": 10,
   "metadata": {},
   "outputs": [
    {
     "name": "stdout",
     "output_type": "stream",
     "text": [
      "Enter start time (in seconds): 15\n",
      "Enter end time (in seconds): 20\n"
     ]
    }
   ],
   "source": [
    "start_time = int(input(\"Enter start time (in seconds): \"))*1000\n",
    "end_time = int(input(\"Enter end time (in seconds): \"))*1000"
   ]
  },
  {
   "cell_type": "code",
   "execution_count": 12,
   "metadata": {},
   "outputs": [],
   "source": [
    "cap = VideoCapture(ans)\n",
    "\n",
    "output_gif = []\n",
    "\n",
    "\n",
    "i = start_time\n",
    "\n",
    "size_percentage = 0.2\n",
    "width = 50\n",
    "height = 200\n",
    "\n",
    "# video capture set start time\n",
    "cap.set(0, start_time)\n",
    "\n",
    "# set the width of the gif\n",
    "cap.set(3, width)\n",
    "\n",
    "# set the height of the gif\n",
    "cap.set(4, height)\n",
    "while(cap.isOpened() and cap.get(0) <= end_time):\n",
    "    ret, frame = cap.read()\n",
    "#     gray = cv2.cvtColor(frame, cv2.COLOR_BAYER_BG2GRAY)\n",
    "    output_gif.append(frame)\n",
    "#     imshow('frame', frame)\n",
    "    if(waitKey(1) & 0xFF == ord('q')):\n",
    "        break\n",
    "    i +=1\n",
    "\n",
    "output_file = 'title-' + (str(datetime.today()).split(' ')[0]) + '.gif'\n",
    "mimsave(output_file, output_gif)\n",
    "# cv2.destroyAllWindows()\n",
    "cap.release()"
   ]
  },
  {
   "cell_type": "code",
   "execution_count": null,
   "metadata": {},
   "outputs": [],
   "source": []
  }
 ],
 "metadata": {
  "kernelspec": {
   "display_name": "Python 3",
   "language": "python",
   "name": "python3"
  },
  "language_info": {
   "codemirror_mode": {
    "name": "ipython",
    "version": 3
   },
   "file_extension": ".py",
   "mimetype": "text/x-python",
   "name": "python",
   "nbconvert_exporter": "python",
   "pygments_lexer": "ipython3",
   "version": "3.7.1"
  }
 },
 "nbformat": 4,
 "nbformat_minor": 2
}
